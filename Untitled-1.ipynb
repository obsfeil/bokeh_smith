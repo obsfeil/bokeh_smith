{
 "cells": [
  {
   "cell_type": "code",
   "execution_count": null,
   "metadata": {},
   "outputs": [],
   "source": [
    "\n",
    "For drawing Smith Charts with Bokeh\n",
    "\n",
    "## Example\n",
    "\n",
    "Here's a usage within a Jupyter notebook:\n",
    "\n",
    "```py\n",
    "from bokeh.io import show, output_notebook\n",
    "output_notebook()\n",
    "\n",
    "import numpy as np\n",
    "from bokeh_smith import smith_chart\n",
    "\n",
    "p=smith_chart(width=200,height=200)\n",
    "s11=np.linspace(1,.8,10)*np.exp(2*np.pi*1j*np.linspace(0,.1,10))\n",
    "p.circle(s11.real,s11.imag)\n",
    "show(p)"
   ]
  }
 ],
 "metadata": {
  "kernelspec": {
   "display_name": "Python",
   "language": "python",
   "name": "python3"
  },
  "language_info": {
   "name": "python",
   "version": "3.12.1"
  }
 },
 "nbformat": 4,
 "nbformat_minor": 2
}
